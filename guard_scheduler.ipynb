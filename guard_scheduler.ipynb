{
 "cells": [
  {
   "cell_type": "code",
   "execution_count": null,
   "metadata": {
    "scrolled": true
   },
   "outputs": [],
   "source": [
    "\n",
    "    "
   ]
  },
  {
   "cell_type": "code",
   "execution_count": 71,
   "metadata": {
    "collapsed": true
   },
   "outputs": [],
   "source": []
  },
  {
   "cell_type": "code",
   "execution_count": null,
   "metadata": {},
   "outputs": [],
   "source": [
    "from datetime import datetime,timedelta\n",
    "from openpyxl import Workbook\n",
    "from random import sample,randint\n",
    "\n",
    "'''\n",
    "Se puede hacer un fichero input.json con los nombres de los médicos y una lista de días de vacaciones \n",
    "'''\n",
    "\n",
    "FESTIVOS = {'01-01','06-01','01-05','02-05','15-05','15-08','12-10','01-11','09-11','06-12','08-12','25-12'}\n",
    "\n",
    "\n",
    "\n",
    "class turnos:\n",
    "    def __init__(self, _vacaciones_x_pers, _desde, _hasta,_version=''):\n",
    "        \n",
    "        #input\n",
    "        self.medicos =  set(_vacaciones_x_pers.keys())\n",
    "        self.vacaciones_x_pers = _vacaciones_x_pers\n",
    "        \n",
    "        #para saber cuanto lleva cada doctor si hacer una guardia\n",
    "        self.todos_han_hecho_guardia = {\"doble\":False, #fines de semana y festivos\n",
    "                                    \"simple\":False}#entre_semana\n",
    "        self.ultima_guardia_x_pers={\"doble\":{}, #fines de semana y festivos\n",
    "                                    \"simple\":{}}#entre_semana\n",
    "        \n",
    "        #para encontrar 4 medicos\n",
    "        self.festivos = {datetime.strptime(f+'-2019','%d-%m-%Y') for f in FESTIVOS}\n",
    "        \n",
    "        #para programar_calendario\n",
    "        self.programacion={}\n",
    "        self.inicio = _desde\n",
    "        self.final = _hasta\n",
    "        self.dia = _desde\n",
    "        self._tipo_de_guardia = self._tipo_de_dia()\n",
    "        \n",
    "        #para guardar el archivo\n",
    "        self.version = _version\n",
    "        \n",
    "    \n",
    "    def programar_calendario(self):\n",
    "        #Para cada día desde el principio hasta el final encontrar 4 medicos        \n",
    "        while self.dia <= self.final:\n",
    "            self.programacion[self.dia] = self._encontrar_4_medicos()\n",
    "            self.dia += timedelta(days=1)  \n",
    "            self._tipo_de_guardia = self._tipo_de_dia()\n",
    "    \n",
    "    def _encontrar_4_medicos(self):\n",
    "        los_4_medicos=set()                                    \n",
    "        # Buscar quien está librando ese día\n",
    "        librando = self._de_vacaciones_o_salientes() #set\n",
    "        #escoger primero los que todavía no hayan hecho una guardia de este tipo\n",
    "        if self.todos_han_hecho_guardia[self._tipo_de_guardia]==False:\n",
    "            los_4_medicos= self._escoger_los_que_todavia_no_han_pasado(librando)\n",
    "        if len(los_4_medicos)<4:\n",
    "            los_4_medicos= los_4_medicos.union(self._escoger_medicos_descansados(4 - len(los_4_medicos),\n",
    "                                                                               librando))\n",
    "        # apunta las guardias\n",
    "        for med in los_4_medicos:\n",
    "            self.ultima_guardia_x_pers[self._tipo_de_guardia][med] = self.dia      \n",
    "            \n",
    "        \n",
    "                                           \n",
    "    def _de_vacaciones_o_salientes(self, _dia=''):\n",
    "        dia = self.dia if _dia == '' else _dia\n",
    "        print(dia)\n",
    "        #Devolver la lista de medicos que están de vacaciones o salientes        \n",
    "        vacaciones = {med for med in self.medicos if dia.strftime('%d-%m-%Y') in self.vacaciones_x_pers[med]}\n",
    "        salientes  = {med for med in self.medicos if self.ultima_guardia_x_pers[self._tipo_de_guardia].get(med) == dia - timedelta(days=1)}\n",
    "        return set(vacaciones.union(salientes))\n",
    "    \n",
    "    def _tipo_de_dia(self):\n",
    "        #identificar el tipo de guardia\n",
    "        return 'doble' if self.dia.weekday() in (5,6) or self.dia in self.festivos else 'simple'\n",
    "    \n",
    "    def _escoger_los_que_todavia_no_han_pasado(self,_librando):                                 \n",
    "        los_medicos_que_no_han_pasado=set()\n",
    "        #medicos disponibles con prioridad: todavía no han hecho este tipo de guardia y que no están de vacaciones\n",
    "        cola_inicial = self.medicos.difference(set(self.ultima_guardia_x_pers[self._tipo_de_guardia].keys()))\n",
    "        # Si la cola está vacía es que todos los medicos han hecho una guardia de este tipo ya\n",
    "        if len(cola_inicial)==0:\n",
    "            self.todos_han_hecho_guardia[self._tipo_de_guardia]=True\n",
    "            return los_medicos_que_no_han_pasado #{}\n",
    "                                       \n",
    "        disponibles_con_prioridad = cola_inicial.difference(_librando)\n",
    "        # mientras que no tengas 4 medicos y sobren disponibles añade uno hasta que no queden o que tengas 4\n",
    "        while len(los_medicos_que_no_han_pasado)<4 and len(disponibles_con_prioridad)>0:\n",
    "            medico= sample(disponibles_con_prioridad,1)[0]\n",
    "            los_medicos_que_no_han_pasado.add(medico)\n",
    "            disponibles_con_prioridad.discard(medico)                                        \n",
    "        return los_medicos_que_no_han_pasado\n",
    "                                        \n",
    "    def _escoger_medicos_descansados(self, numero, librando):\n",
    "        assert numero in (1,2,3,4)\n",
    "        medicos_para_elegir= {med for med in self.medicos.difference(librando) \n",
    "                              if self.ultima_guardia_x_pers[self._tipo_de_guardia][med]\n",
    "                              in self._las_guardias_mas_antiguas() }\n",
    "        medicos_elegidos=set(sample(medicos_para_elegir,numero))\n",
    "        return medicos_elegidos\n",
    "        \n",
    "    def _las_guardias_mas_antiguas(self):\n",
    "        l=list(self.ultima_guardia_x_pers[self._tipo_de_guardia].values())\n",
    "        l.sort()\n",
    "        return l[:4]\n",
    "    \n",
    "    def imprimir_calendario(self):\n",
    "        lista_de_medicos = list(self.medicos)\n",
    "        wb=Workbook()\n",
    "        ws=wb.active()\n",
    "        ws.name='Vacaciones Por Persona'\n",
    "        ws.cell(row=1,column=1)='Persona';ws.cell(row=1,column=2)='Vacaciones escogidas'\n",
    "        for num_med in range(lista_de_medicos):            \n",
    "            ws.cell(row=num_med+2,column=1) =  lista_de_medicos[num_med]\n",
    "            lista_de_vacaciones=list(self.vacaciones_x_pers[lista_de_medicos[num_med]])\n",
    "            for num_dia_libre in range(lista_de_vacaciones):\n",
    "                ws.cell(row=num_med+2,column= num_dia_libre+2) = lista_de_vacaciones[num_dia_libre]\n",
    "        wb.create_sheet('Calendario')\n",
    "        ws.cell(row=1,column=1)='Fecha';ws.cell(row=1,column=2)='De guardia';ws.cell(row=1,column=3)='De vacaciones o salientes'\n",
    "        \n",
    "        \n",
    " \n",
    "def fecha_random(start, end):\n",
    "    \"\"\"Generate a random datetime between `start` and `end`\"\"\"\n",
    "    return (start +timedelta(\n",
    "        # Get a random amount of seconds between `start` and `end`\n",
    "        seconds=randint(0, int((end - start).total_seconds()))\n",
    "    )).strftime('%d-%m-%y')\n",
    "\n",
    "\n",
    "def _crear_vacaciones(_desde,_hasta):\n",
    "    medicos={}\n",
    "    vacaciones=set()\n",
    "    for i in range(1,41):\n",
    "        for d in range(20):\n",
    "            vacaciones.add(fecha_random(_desde,_hasta))\n",
    "        medicos[\"Dra.Eugelilla\"+str(i)]=vacaciones \n",
    "        vacaciones=set()\n",
    "    return medicos\n",
    "\n",
    "if __name__=='__main__':\n",
    "    desde = input(\"¿cual es la fecha inicial?\")  or '25-09-2019'\n",
    "    hasta = input(\"¿cual es la fecha final?\") or '25-09-2020'\n",
    "    desde,hasta =  datetime.strptime(desde,'%d-%m-%Y'), datetime.strptime(hasta,'%d-%m-%Y')\n",
    "    for i in range(10):\n",
    "        turnos_del_hospital=turnos(_crear_vacaciones(desde,hasta),desde,hasta,i) \n",
    "    turnos_del_hospital.programar_calendario()\n",
    "    turnos_del_hospital.imprimir_calendario()      "
   ]
  },
  {
   "cell_type": "code",
   "execution_count": 16,
   "metadata": {},
   "outputs": [
    {
     "name": "stdout",
     "output_type": "stream",
     "text": [
      "9\n"
     ]
    },
    {
     "ename": "AttributeError",
     "evalue": "module 'datetime' has no attribute 'strptime'",
     "output_type": "error",
     "traceback": [
      "\u001b[0;31m---------------------------------------------------------------------------\u001b[0m",
      "\u001b[0;31mAttributeError\u001b[0m                            Traceback (most recent call last)",
      "\u001b[0;32m<ipython-input-16-4c31d5d0b6d7>\u001b[0m in \u001b[0;36m<module>\u001b[0;34m()\u001b[0m\n\u001b[1;32m      3\u001b[0m \u001b[0mprint\u001b[0m\u001b[0;34m(\u001b[0m\u001b[0md\u001b[0m\u001b[0;34m.\u001b[0m\u001b[0mmonth\u001b[0m\u001b[0;34m)\u001b[0m\u001b[0;34m\u001b[0m\u001b[0m\n\u001b[1;32m      4\u001b[0m \u001b[0md\u001b[0m\u001b[0;34m.\u001b[0m\u001b[0myear\u001b[0m\u001b[0;34m\u001b[0m\u001b[0m\n\u001b[0;32m----> 5\u001b[0;31m \u001b[0mprint\u001b[0m\u001b[0;34m(\u001b[0m\u001b[0mdatetime\u001b[0m\u001b[0;34m.\u001b[0m\u001b[0mstrptime\u001b[0m\u001b[0;34m(\u001b[0m\u001b[0mdate\u001b[0m\u001b[0;34m(\u001b[0m\u001b[0;36m2010\u001b[0m\u001b[0;34m,\u001b[0m \u001b[0;36m6\u001b[0m\u001b[0;34m,\u001b[0m \u001b[0;36m16\u001b[0m\u001b[0;34m)\u001b[0m\u001b[0;34m.\u001b[0m\u001b[0mstrftime\u001b[0m\u001b[0;34m(\u001b[0m\u001b[0;34m'%d-%m-%y'\u001b[0m\u001b[0;34m)\u001b[0m\u001b[0;34m)\u001b[0m\u001b[0;34m,\u001b[0m\u001b[0;34m'%d-%m-%y'\u001b[0m\u001b[0;34m)\u001b[0m\u001b[0;34m\u001b[0m\u001b[0m\n\u001b[0m\u001b[1;32m      6\u001b[0m \u001b[0md\u001b[0m\u001b[0;34m.\u001b[0m\u001b[0m__repr__\u001b[0m\u001b[0;34m(\u001b[0m\u001b[0;34m)\u001b[0m\u001b[0;34m\u001b[0m\u001b[0m\n",
      "\u001b[0;31mAttributeError\u001b[0m: module 'datetime' has no attribute 'strptime'"
     ]
    }
   ],
   "source": [
    "import datetime\n",
    "d=datetime.datetime.now()\n",
    "print(d.month)\n",
    "d.year\n",
    "print(datetime.strptime(date(2010, 6, 16).strftime('%d-%m-%y')),'%d-%m-%y')\n",
    "d.__repr__()"
   ]
  },
  {
   "cell_type": "code",
   "execution_count": null,
   "metadata": {},
   "outputs": [],
   "source": [
    "\n",
    "      "
   ]
  },
  {
   "cell_type": "code",
   "execution_count": null,
   "metadata": {},
   "outputs": [],
   "source": [
    "from keyword import kwlist\n",
    "print(kwlist)\n"
   ]
  },
  {
   "cell_type": "code",
   "execution_count": 78,
   "metadata": {},
   "outputs": [
    {
     "name": "stdout",
     "output_type": "stream",
     "text": [
      "dict_keys(['Dra.Eugelilla 1', 'Dra.Eugelilla 2', 'Dra.Eugelilla 3', 'Dra.Eugelilla 4', 'Dra.Eugelilla 5', 'Dra.Eugelilla 6', 'Dra.Eugelilla 7', 'Dra.Eugelilla 8', 'Dra.Eugelilla 9', 'Dra.Eugelilla 10', 'Dra.Eugelilla 11', 'Dra.Eugelilla 12', 'Dra.Eugelilla 13', 'Dra.Eugelilla 14', 'Dra.Eugelilla 15', 'Dra.Eugelilla 16', 'Dra.Eugelilla 17', 'Dra.Eugelilla 18', 'Dra.Eugelilla 19', 'Dra.Eugelilla 20', 'Dra.Eugelilla 21', 'Dra.Eugelilla 22', 'Dra.Eugelilla 23', 'Dra.Eugelilla 24', 'Dra.Eugelilla 25', 'Dra.Eugelilla 26', 'Dra.Eugelilla 27', 'Dra.Eugelilla 28', 'Dra.Eugelilla 29', 'Dra.Eugelilla 30', 'Dra.Eugelilla 31', 'Dra.Eugelilla 32', 'Dra.Eugelilla 33', 'Dra.Eugelilla 34', 'Dra.Eugelilla 35', 'Dra.Eugelilla 36', 'Dra.Eugelilla 37', 'Dra.Eugelilla 38', 'Dra.Eugelilla 39', 'Dra.Eugelilla 40'])\n"
     ]
    }
   ],
   "source": [
    " with open(\"input1.json\",'r') as f:\n",
    "        medicos_vacaciones = json.load(f) \n",
    "        print(medicos_vacaciones.keys())"
   ]
  },
  {
   "cell_type": "code",
   "execution_count": 130,
   "metadata": {
    "collapsed": true
   },
   "outputs": [],
   "source": [
    "class person:\n",
    "    def __init__(self, name, age):\n",
    "        self.name=name\n",
    "        self.age=age\n",
    "        self.cryptokitties=[]\n",
    "    def buy_a_cryptokitty(self,cryptokitty_id):\n",
    "        self.last_cryptokitty_id=cryptokitty_id\n",
    "        self.cryptokitties.append(last_cryptokitty_id)\n",
    "    \n"
   ]
  },
  {
   "cell_type": "code",
   "execution_count": 162,
   "metadata": {},
   "outputs": [
    {
     "data": {
      "text/plain": [
       "datetime.datetime(2019, 5, 1, 0, 0)"
      ]
     },
     "execution_count": 162,
     "metadata": {},
     "output_type": "execute_result"
    }
   ],
   "source": [
    "datetime.datetime.strptime('01-05'+'-2019', '%d-%m-%Y')"
   ]
  },
  {
   "cell_type": "code",
   "execution_count": null,
   "metadata": {},
   "outputs": [],
   "source": [
    "from openpyxl import Workbook\n",
    "wb=Workbook()\n",
    "ws=wb.active\n"
   ]
  }
 ],
 "metadata": {
  "kernelspec": {
   "display_name": "Python 3",
   "language": "python",
   "name": "python3"
  },
  "language_info": {
   "codemirror_mode": {
    "name": "ipython",
    "version": 3
   },
   "file_extension": ".py",
   "mimetype": "text/x-python",
   "name": "python",
   "nbconvert_exporter": "python",
   "pygments_lexer": "ipython3",
   "version": "3.5.2"
  }
 },
 "nbformat": 4,
 "nbformat_minor": 2
}
